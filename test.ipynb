{
 "cells": [
  {
   "cell_type": "markdown",
   "metadata": {},
   "source": [
    "# Write a program to remove characters from a string starting from zero up to n and return a new string.\n",
    "\n",
    "__Example:__\n",
    "\n",
    "remove_char(\"Untitled\", 4) so output must be tled. Here we need to remove first four characters from a string"
   ]
  },
  {
   "cell_type": "code",
   "execution_count": null,
   "metadata": {},
   "outputs": [],
   "source": [
    "def remove_char(\"Untitled\", 4):\n",
    "    # Write your code here"
   ]
  },
  {
   "cell_type": "markdown",
   "metadata": {},
   "source": [
    "# Write a program to find how many times substring appears in the given string.\n",
    "\n",
    "__Example:__\n",
    "\n",
    "\"You can use Markdown to format documentation you add to Markdown cells\" sub_string: Markdown\n",
    "In the above the substring Markdown is appeared two times.So the count is two"
   ]
  },
  {
   "cell_type": "code",
   "execution_count": null,
   "metadata": {},
   "outputs": [],
   "source": [
    "def sub_str(main_str,sub_str):\n",
    "    # Write your code here\n",
    "    print(\"working\")\n",
    "    \n",
    "main_str=\"You can use Markdown to format documentation you add to Markdown cells\"\n",
    "sub_str=\"Markdown\"\n",
    "sub_str(main_str,sub_str)\n",
    "print(\"test\")"
   ]
  },
  {
   "cell_type": "code",
   "execution_count": null,
   "metadata": {},
   "outputs": [],
   "source": []
  }
 ],
 "metadata": {
  "kernelspec": {
   "display_name": "Python 3",
   "language": "python",
   "name": "python3"
  },
  "language_info": {
   "codemirror_mode": {
    "name": "ipython",
    "version": 3
   },
   "file_extension": ".py",
   "mimetype": "text/x-python",
   "name": "python",
   "nbconvert_exporter": "python",
   "pygments_lexer": "ipython3",
   "version": "3.6.5"
  }
 },
 "nbformat": 4,
 "nbformat_minor": 2
}
