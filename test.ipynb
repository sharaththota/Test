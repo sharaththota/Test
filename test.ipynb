{
 "cells": [
  {
   "cell_type": "markdown",
   "metadata": {},
   "source": [
    "# Write a program to remove characters from a string starting from zero up to n and return a new string.\n",
    "\n",
    "__Example:__\n",
    "\n",
    "remove_char(\"Untitled\", 4) so output must be tled. Here we need to remove first four characters from a string"
   ]
  },
  {
   "cell_type": "code",
   "execution_count": 12,
   "metadata": {},
   "outputs": [
    {
     "name": "stdout",
     "output_type": "stream",
     "text": [
      "started\n"
     ]
    }
   ],
   "source": [
    "def remove_char(a, b):\n",
    "    # Write your code here\n",
    "    print(\"started\")\n",
    "\n",
    "a=\"Untitled\"\n",
    "b=4\n",
    "remove_char(a,b)"
   ]
  },
  {
   "cell_type": "markdown",
   "metadata": {},
   "source": [
    "# Write a program to find how many times substring appears in the given string.\n",
    "\n",
    "__Example:__\n",
    "\n",
    "\"You can use Markdown to format documentation you add to Markdown cells\" sub_string: Markdown\n",
    "In the above the substring Markdown is appeared two times.So the count is two"
   ]
  },
  {
   "cell_type": "code",
   "execution_count": 14,
   "metadata": {},
   "outputs": [
    {
     "name": "stdout",
     "output_type": "stream",
     "text": [
      "started\n"
     ]
    }
   ],
   "source": [
    "def sub_string(m_string,s_string):\n",
    "    # Write your code here\n",
    "    print(\"started\")\n",
    "    \n",
    "    \n",
    "m_string=\"You can use Markdown to format documentation you add to Markdown cells\"\n",
    "s_string=\"Markdown\"\n",
    "sub_string(m_string,s_string)\n"
   ]
  },
  {
   "cell_type": "markdown",
   "metadata": {},
   "source": [
    "# Write a program to check if the given number is a palindrome number.\n",
    "\n",
    "__Exapmle:__\n",
    "\n",
    "A palindrome number is a number that is same after reverse. For example 242, is the palindrome number\n"
   ]
  },
  {
   "cell_type": "code",
   "execution_count": 16,
   "metadata": {},
   "outputs": [
    {
     "name": "stdout",
     "output_type": "stream",
     "text": [
      "started\n"
     ]
    }
   ],
   "source": [
    "def palindrom_check(a):\n",
    "    # Write your code here\n",
    "    print(\"started\")\n",
    "\n",
    "palindrom_check(242)"
   ]
  },
  {
   "cell_type": "markdown",
   "metadata": {},
   "source": [
    "# Write a program to Extract Unique values from dictionary values\n",
    "\n",
    "__Example:__\n",
    "\n",
    "test= {\"gfg': [5, 6, 7, 8], 'is': [10, 11, 7, 5], 'best' : [6, 12, 10, 8], 'for': [1, 2, 5]}\n",
    "out_put: [1, 2, 5, 6, 7, 8, 10, 11, 12]"
   ]
  },
  {
   "cell_type": "code",
   "execution_count": 19,
   "metadata": {},
   "outputs": [
    {
     "name": "stdout",
     "output_type": "stream",
     "text": [
      "started\n"
     ]
    }
   ],
   "source": [
    "def extract_unique(a):\n",
    "    # Write your code here\n",
    "    print(\"started\")\n",
    "    \n",
    "\n",
    "\n",
    "test= {'gfg': [5, 6, 7, 8], 'is': [10, 11, 7, 5], 'best' : [6, 12, 10, 8], 'for': [1, 2, 5]}\n",
    "extract_unique(test)"
   ]
  },
  {
   "cell_type": "markdown",
   "metadata": {},
   "source": [
    "# Write a program to find the dictionary with maximum count of pairs\n",
    "\n",
    "__Example:__\n",
    "\n",
    "Input: test_list = [{\"gfg\": 2, \"best\":4}, {\"gfg\": 2, \"is\" : 3, \"best\": 4, \"CS\":9}, {\"gfg\":2}] \n",
    "Output: 4"
   ]
  },
  {
   "cell_type": "code",
   "execution_count": 20,
   "metadata": {},
   "outputs": [
    {
     "name": "stdout",
     "output_type": "stream",
     "text": [
      "started\n"
     ]
    }
   ],
   "source": [
    "def max_count(a):\n",
    "    # Write your code here\n",
    "    print(\"started\")\n",
    "    \n",
    "    \n",
    "test_list = [{\"gfg\": 2, \"best\":4}, {\"gfg\": 2, \"is\" : 3, \"best\": 4, \"CS\":9}, {\"gfg\":2}]\n",
    "max_count(test_list)\n",
    "    \n"
   ]
  },
  {
   "cell_type": "markdown",
   "metadata": {},
   "source": [
    "# Access the value of key 'history' from the below dict"
   ]
  },
  {
   "cell_type": "code",
   "execution_count": 22,
   "metadata": {},
   "outputs": [
    {
     "name": "stdout",
     "output_type": "stream",
     "text": [
      "started\n"
     ]
    }
   ],
   "source": [
    "def key_access(a):\n",
    "    # Write your code here\n",
    "    print(\"started\")\n",
    "    \n",
    "    \n",
    "    \n",
    "\n",
    "\n",
    "sampleDict = {\n",
    "\"class\":{\n",
    "\"student\":{\n",
    "\"name\": \"Mike\",\n",
    "\"marks\" : {\n",
    "\"physics\":70,\n",
    "\"history\":80\n",
    "}\n",
    "}\n",
    "}\n",
    "}\n",
    "key_access(sampleDict)"
   ]
  },
  {
   "cell_type": "markdown",
   "metadata": {},
   "source": [
    "# Print the value of key hair\n",
    "# Print the third element of the key interested in"
   ]
  },
  {
   "cell_type": "code",
   "execution_count": 28,
   "metadata": {},
   "outputs": [
    {
     "name": "stdout",
     "output_type": "stream",
     "text": [
      "started\n"
     ]
    }
   ],
   "source": [
    "def third_ele(a):\n",
    "    # Write your code here\n",
    "    print(\"started\")\n",
    "    \n",
    "    \n",
    "    \n",
    "    \n",
    "    \n",
    "info={\n",
    "   \"personal data\":{\n",
    "      \"name\":\"Lauren\",\n",
    "      \"age\":20,\n",
    "      \"major\":\"Information Science\",\n",
    "      \"physical_features\":{\n",
    "         \"color\":{\n",
    "            \"eye\":\"blue\",\n",
    "            \"hair\":\"brown\"\n",
    "         },\n",
    "         \"height\":\"5'8\"\n",
    "      }\n",
    "   },\n",
    "   \"other\":{\n",
    "      \"favorite_colors\":[\n",
    "         \"purple\",\n",
    "         \"green\",\n",
    "         \"blue\"\n",
    "      ],\n",
    "      \"interested_in\":[\n",
    "         \"social media\",\n",
    "         \"intellectual property\",\n",
    "         \"copyright\",\n",
    "         \"music\",\n",
    "         \"books\"\n",
    "      ]\n",
    "   }\n",
    "}\n",
    "\n",
    "third_ele(info)"
   ]
  },
  {
   "cell_type": "code",
   "execution_count": 35,
   "metadata": {},
   "outputs": [
    {
     "data": {
      "text/html": [
       "<div>\n",
       "<style scoped>\n",
       "    .dataframe tbody tr th:only-of-type {\n",
       "        vertical-align: middle;\n",
       "    }\n",
       "\n",
       "    .dataframe tbody tr th {\n",
       "        vertical-align: top;\n",
       "    }\n",
       "\n",
       "    .dataframe thead th {\n",
       "        text-align: right;\n",
       "    }\n",
       "</style>\n",
       "<table border=\"1\" class=\"dataframe\">\n",
       "  <thead>\n",
       "    <tr style=\"text-align: right;\">\n",
       "      <th></th>\n",
       "      <th>name</th>\n",
       "      <th>score</th>\n",
       "      <th>attempts</th>\n",
       "      <th>qualify</th>\n",
       "    </tr>\n",
       "  </thead>\n",
       "  <tbody>\n",
       "    <tr>\n",
       "      <th>a</th>\n",
       "      <td>Anastasia</td>\n",
       "      <td>12.5</td>\n",
       "      <td>1</td>\n",
       "      <td>yes</td>\n",
       "    </tr>\n",
       "    <tr>\n",
       "      <th>b</th>\n",
       "      <td>Dima</td>\n",
       "      <td>9.0</td>\n",
       "      <td>3</td>\n",
       "      <td>no</td>\n",
       "    </tr>\n",
       "    <tr>\n",
       "      <th>c</th>\n",
       "      <td>Katherine</td>\n",
       "      <td>16.5</td>\n",
       "      <td>2</td>\n",
       "      <td>yes</td>\n",
       "    </tr>\n",
       "    <tr>\n",
       "      <th>d</th>\n",
       "      <td>James</td>\n",
       "      <td>NaN</td>\n",
       "      <td>3</td>\n",
       "      <td>no</td>\n",
       "    </tr>\n",
       "    <tr>\n",
       "      <th>e</th>\n",
       "      <td>Emily</td>\n",
       "      <td>9.0</td>\n",
       "      <td>2</td>\n",
       "      <td>no</td>\n",
       "    </tr>\n",
       "    <tr>\n",
       "      <th>f</th>\n",
       "      <td>Michael</td>\n",
       "      <td>20.0</td>\n",
       "      <td>3</td>\n",
       "      <td>yes</td>\n",
       "    </tr>\n",
       "    <tr>\n",
       "      <th>g</th>\n",
       "      <td>Matthew</td>\n",
       "      <td>14.5</td>\n",
       "      <td>1</td>\n",
       "      <td>yes</td>\n",
       "    </tr>\n",
       "    <tr>\n",
       "      <th>h</th>\n",
       "      <td>Laura</td>\n",
       "      <td>NaN</td>\n",
       "      <td>1</td>\n",
       "      <td>no</td>\n",
       "    </tr>\n",
       "    <tr>\n",
       "      <th>i</th>\n",
       "      <td>Kevin</td>\n",
       "      <td>8.0</td>\n",
       "      <td>2</td>\n",
       "      <td>no</td>\n",
       "    </tr>\n",
       "    <tr>\n",
       "      <th>j</th>\n",
       "      <td>Jonas</td>\n",
       "      <td>19.0</td>\n",
       "      <td>1</td>\n",
       "      <td>yes</td>\n",
       "    </tr>\n",
       "  </tbody>\n",
       "</table>\n",
       "</div>"
      ],
      "text/plain": [
       "        name  score  attempts qualify\n",
       "a  Anastasia   12.5         1     yes\n",
       "b       Dima    9.0         3      no\n",
       "c  Katherine   16.5         2     yes\n",
       "d      James    NaN         3      no\n",
       "e      Emily    9.0         2      no\n",
       "f    Michael   20.0         3     yes\n",
       "g    Matthew   14.5         1     yes\n",
       "h      Laura    NaN         1      no\n",
       "i      Kevin    8.0         2      no\n",
       "j      Jonas   19.0         1     yes"
      ]
     },
     "execution_count": 35,
     "metadata": {},
     "output_type": "execute_result"
    }
   ],
   "source": [
    "import pandas as pd\n",
    "import numpy as np\n",
    "exam_data  = {'name': ['Anastasia', 'Dima', 'Katherine', 'James', 'Emily', 'Michael', 'Matthew', 'Laura', 'Kevin', 'Jonas'],\n",
    "        'score': [12.5, 9, 16.5, np.nan, 9, 20, 14.5, np.nan, 8, 19],\n",
    "        'attempts': [1, 3, 2, 3, 2, 3, 1, 1, 2, 1],\n",
    "        'qualify': ['yes', 'no', 'yes', 'no', 'no', 'yes', 'yes', 'no', 'no', 'yes']}\n",
    "labels = ['a', 'b', 'c', 'd', 'e', 'f', 'g', 'h', 'i', 'j']\n",
    "\n",
    "df = pd.DataFrame(exam_data , index=labels)\n",
    "df"
   ]
  },
  {
   "cell_type": "markdown",
   "metadata": {},
   "source": [
    "# Print the Unique values from attempts column"
   ]
  },
  {
   "cell_type": "code",
   "execution_count": 40,
   "metadata": {},
   "outputs": [
    {
     "name": "stdout",
     "output_type": "stream",
     "text": [
      "started\n"
     ]
    }
   ],
   "source": [
    "def un_values(df):\n",
    "    # Write your code here\n",
    "    print(\"started\")\n",
    "    \n",
    "    \n",
    "    \n",
    "    \n",
    "un_values(df)"
   ]
  },
  {
   "cell_type": "markdown",
   "metadata": {},
   "source": [
    "# Print the top five rows from the data frame\n"
   ]
  },
  {
   "cell_type": "code",
   "execution_count": 42,
   "metadata": {},
   "outputs": [
    {
     "name": "stdout",
     "output_type": "stream",
     "text": [
      "started\n"
     ]
    }
   ],
   "source": [
    "def top_five(df):\n",
    "    # Write your code here\n",
    "    print(\"started\")\n",
    "    \n",
    "    \n",
    "    \n",
    "    \n",
    "top_five(df)"
   ]
  },
  {
   "cell_type": "markdown",
   "metadata": {},
   "source": [
    "# Print the max and min values of the coulmn attempts"
   ]
  },
  {
   "cell_type": "code",
   "execution_count": 43,
   "metadata": {},
   "outputs": [
    {
     "name": "stdout",
     "output_type": "stream",
     "text": [
      "started\n"
     ]
    }
   ],
   "source": [
    "def min_max(df):\n",
    "    # Write your code here\n",
    "    print(\"started\")\n",
    "    \n",
    "    \n",
    "    \n",
    "    \n",
    "min_max(df)"
   ]
  },
  {
   "cell_type": "code",
   "execution_count": null,
   "metadata": {},
   "outputs": [],
   "source": []
  }
 ],
 "metadata": {
  "kernelspec": {
   "display_name": "Python 3 (ipykernel)",
   "language": "python",
   "name": "python3"
  },
  "language_info": {
   "codemirror_mode": {
    "name": "ipython",
    "version": 3
   },
   "file_extension": ".py",
   "mimetype": "text/x-python",
   "name": "python",
   "nbconvert_exporter": "python",
   "pygments_lexer": "ipython3",
   "version": "3.7.10"
  }
 },
 "nbformat": 4,
 "nbformat_minor": 4
}
